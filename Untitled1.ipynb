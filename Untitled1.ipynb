{
 "cells": [
  {
   "cell_type": "markdown",
   "metadata": {},
   "source": [
    "# Adaptation of the fish to depth"
   ]
  },
  {
   "cell_type": "markdown",
   "metadata": {},
   "source": [
    "# Project Description\n",
    "\n",
    "Living in the depth claims specific adaptations. \n",
    "\n",
    "There is a correlation between the light wavelength the fish eye can catch and the depth.\n",
    "\n",
    "The vast majority of deep-sea fish have only a single visual pigment (rhodopsin) with the maximum wavelength around 468–492 nm, whereas other fish have more than one rhodopsin with different wavelengths.\n"
   ]
  },
  {
   "cell_type": "markdown",
   "metadata": {},
   "source": [
    "# Goal\n",
    "To analyse the rhodopsin gene and protein (rh1) in the deep water fish and compare the nucleotide and amino acid changes to find out if there are any specific changes that occur in the non-related deep water fishes. \n",
    "\n",
    "# Source\n",
    "\n",
    "\n"
   ]
  },
  {
   "cell_type": "code",
   "execution_count": 3,
   "metadata": {},
   "outputs": [
    {
     "ename": "SyntaxError",
     "evalue": "invalid syntax (<ipython-input-3-54a30919a178>, line 2)",
     "output_type": "error",
     "traceback": [
      "\u001b[0;36m  File \u001b[0;32m\"<ipython-input-3-54a30919a178>\"\u001b[0;36m, line \u001b[0;32m2\u001b[0m\n\u001b[0;31m    <img src='FishGenes_amino_histogram.png', width=400, height=400>\u001b[0m\n\u001b[0m    ^\u001b[0m\n\u001b[0;31mSyntaxError\u001b[0m\u001b[0;31m:\u001b[0m invalid syntax\n"
     ]
    }
   ],
   "source": [
    "html\n",
    "<img src='FishGenes_amino_histogram.png', width=400, height=400>"
   ]
  },
  {
   "cell_type": "markdown",
   "metadata": {},
   "source": [
    "## Data\n",
    "folder with Data sources\n",
    "## Result\n",
    "folder with Script results\n",
    "## Scripts:\n",
    "### Amino Histogram Calculation:\n",
    "FishGenes_amino_frequency_histogram.ipynb\n",
    "### Amino Replacement Calculation:\n",
    "FishGenes.ipynb"
   ]
  }
 ],
 "metadata": {
  "kernelspec": {
   "display_name": "Python 3",
   "language": "python",
   "name": "python3"
  },
  "language_info": {
   "codemirror_mode": {
    "name": "ipython",
    "version": 3
   },
   "file_extension": ".py",
   "mimetype": "text/x-python",
   "name": "python",
   "nbconvert_exporter": "python",
   "pygments_lexer": "ipython3",
   "version": "3.7.3"
  }
 },
 "nbformat": 4,
 "nbformat_minor": 2
}
